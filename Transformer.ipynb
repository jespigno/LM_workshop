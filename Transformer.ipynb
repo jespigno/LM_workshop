{
 "cells": [
  {
   "cell_type": "markdown",
   "metadata": {},
   "source": [
    "# The Transformer\n",
    "Now, it is time for us to cover the transformer. First introduced in the 2017 paper Attention is All You Need, the transformer is a model architecture that has been used in a variety of applications, including language translation, image generation, and text summarization. \n",
    "The transformer is a **sequence-to-sequence** model that is based on the concept of **self-attention**\n",
    "\n",
    "\n",
    "<p align=\"center\">\n",
    "  <img src=\"images/transformer.png\" width=\"500\"/>\n",
    "</p>\n"
   ]
  },
  {
   "cell_type": "markdown",
   "metadata": {},
   "source": [
    "## The task\n",
    "One of the tasks where the brilliance of the transformer model shines the most is **machine translation**. In this notebook, we will implement a simple English-Spanish translator (Spanish is our official language back in Panama 🇵🇦😁).\n",
    "<p align=\"center\">\n",
    "  <img src=\"images/playita.avif\" width=\"500\"/>\n",
    "</p>"
   ]
  },
  {
   "cell_type": "markdown",
   "metadata": {},
   "source": [
    "As before, we will just start the process by importing all the necessary libraries. I have also used the **PyTorch** framework throughout this notebook--feel free to try to re-implement the transformer using a different framework like **TensorFLow** (developed by Google) in your free time if you want to have more experience."
   ]
  },
  {
   "cell_type": "code",
   "execution_count": 1,
   "metadata": {},
   "outputs": [],
   "source": [
    "import torch\n",
    "import torch.nn as nn\n",
    "import torch.optim as optim\n",
    "import torch.utils.data as data\n",
    "import math\n",
    "import copy"
   ]
  }
 ],
 "metadata": {
  "kernelspec": {
   "display_name": "Python 3",
   "language": "python",
   "name": "python3"
  },
  "language_info": {
   "codemirror_mode": {
    "name": "ipython",
    "version": 3
   },
   "file_extension": ".py",
   "mimetype": "text/x-python",
   "name": "python",
   "nbconvert_exporter": "python",
   "pygments_lexer": "ipython3",
   "version": "3.10.12"
  },
  "orig_nbformat": 4
 },
 "nbformat": 4,
 "nbformat_minor": 2
}
