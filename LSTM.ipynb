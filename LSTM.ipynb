{
 "cells": [
  {
   "cell_type": "markdown",
   "metadata": {},
   "source": [
    "# Part 2: LSTM\n",
    "In this section of the workshop, we will cover **Long Short Term Memory**, a complex shape of RNNs."
   ]
  },
  {
   "cell_type": "markdown",
   "metadata": {},
   "source": [
    "# The project\n",
    "We will use a huge dataset (a million or so samples) of tweets that have been classified as positive or negative depending on their content. We are going to train our model to then classify input text as either positive or negative. \n",
    "The dataset has been sourced from [here](https://github.com/cblancac/SentimentAnalysisBert/tree/main/data). This kind of text classification is often referred to as **sentiment analysis**\n",
    "\n",
    "Originally I wanted to add another Panama-related project, but I believe most of the audience does not speak Spanish... We gotta make do 😔😓\n",
    "\n",
    "![twitter](images/twitter.webp)\n"
   ]
  },
  {
   "cell_type": "markdown",
   "metadata": {},
   "source": [
    "The strongest point of **LSTM**s is their capacity to keep information from arbitrary elements earlier in the sequence, encoded as a *hidden state*. In this workshop, we will use a framework known as **PyTorch**.\n",
    "\n",
    "For LSTMs, PyTorch expects every input to be 3D tensors, where the first dimension is the sequence, the second one is instances of mini-batches, and the third one indexes elements of the input."
   ]
  },
  {
   "cell_type": "code",
   "execution_count": 1,
   "metadata": {},
   "outputs": [],
   "source": [
    "#Let us start by importing some dependencies. These contained pre-defined functions and \"wrappers\" that will make the project a lot easier to implement.\n",
    "\n",
    "\n",
    "import numpy as np # functions for linear algebra\n",
    "import pandas as pd # data processing, CSV file I/O (e.g. pd.read_csv)\n",
    "#PyTorch related dependencies:\n",
    "import torch\n",
    "import torch.nn as nn\n",
    "import torch.nn.functional as F\n",
    "from torch.utils.data import TensorDataset, DataLoader\n",
    "\n",
    "from nltk.corpus import stopwords \n",
    "from collections import Counter\n",
    "import string\n",
    "import re\n",
    "import seaborn as sns\n",
    "from tqdm import tqdm\n",
    "import matplotlib.pyplot as plt\n",
    "from sklearn.model_selection import train_test_split"
   ]
  },
  {
   "cell_type": "code",
   "execution_count": 2,
   "metadata": {},
   "outputs": [
    {
     "name": "stdout",
     "output_type": "stream",
     "text": [
      "GPU not available, CPU used\n"
     ]
    }
   ],
   "source": [
    "\n",
    "# If we have a GPU available, we'll set our device to GPU. We'll use this device variable later in our code.\n",
    "#Machine Learning training can be heavy. GPU is generally preferred for it.\n",
    "is_cuda = torch.cuda.is_available()\n",
    "if is_cuda:\n",
    "    device = torch.device(\"cuda\")\n",
    "    print(\"GPU is available\")\n",
    "else:\n",
    "    device = torch.device(\"cpu\")\n",
    "    print(\"GPU not available, CPU used\")"
   ]
  },
  {
   "cell_type": "markdown",
   "metadata": {},
   "source": [
    "Now, it's time to load the dataset. It is currently being hosted on a platform known as *Hugging Face*, so we will first download it and then examine it. \n",
    "*Hugging Face* contains several other useful and robust datasets--feel free to examine the page to find more stuff!"
   ]
  },
  {
   "cell_type": "code",
   "execution_count": 3,
   "metadata": {},
   "outputs": [
    {
     "name": "stderr",
     "output_type": "stream",
     "text": [
      "Found cached dataset twitter-sentiment-analysis (/home/jespigno/.cache/huggingface/datasets/carblacac___twitter-sentiment-analysis/default/1.0.0/cd65e23e456de6a4f7264e305380b0ffe804d6f5bfd361c0ec0f68d8d1fab95b)\n"
     ]
    },
    {
     "data": {
      "application/vnd.jupyter.widget-view+json": {
       "model_id": "3f5e006d9a4f495b85af7cfc3fbc335b",
       "version_major": 2,
       "version_minor": 0
      },
      "text/plain": [
       "  0%|          | 0/3 [00:00<?, ?it/s]"
      ]
     },
     "metadata": {},
     "output_type": "display_data"
    }
   ],
   "source": [
    "from datasets import load_dataset\n",
    "\n",
    "dataset = load_dataset(\"carblacac/twitter-sentiment-analysis\")\n",
    "\n",
    "#The dataset might be too large. In which case, we are going to trim it.\n",
    "#We will use 50,000 samples for this project.\n",
    "dataset[\"train\"] = dataset[\"train\"].select(range(6000))\n",
    "dataset[\"validation\"] = dataset[\"validation\"].select(range(2000))\n",
    "dataset[\"test\"] = dataset[\"test\"].select(range(1000))"
   ]
  },
  {
   "cell_type": "markdown",
   "metadata": {},
   "source": [
    "*Hugging Face* provides an interface named `Datasets` for handling datasets hosted on their platform. This interface splits by default the dataset into three categories, `train`, `validation`, and `test`. Take a look:"
   ]
  },
  {
   "cell_type": "code",
   "execution_count": 4,
   "metadata": {},
   "outputs": [
    {
     "name": "stdout",
     "output_type": "stream",
     "text": [
      "The dataset dictionary has the following structure:\n",
      "DatasetDict({\n",
      "    train: Dataset({\n",
      "        features: ['text', 'feeling'],\n",
      "        num_rows: 6000\n",
      "    })\n",
      "    validation: Dataset({\n",
      "        features: ['text', 'feeling'],\n",
      "        num_rows: 2000\n",
      "    })\n",
      "    test: Dataset({\n",
      "        features: ['text', 'feeling'],\n",
      "        num_rows: 1000\n",
      "    })\n",
      "})\n",
      "Let us take a look at some examples:\n",
      "{'text': 'Twitter is useful in that it reminds people what they forgot to ask me about on a given day. It is also excellent for inspiration', 'feeling': 1}\n",
      "{'text': 'Hoping I at least have fun 2nite.  Today was 1 horrible way 2 start off a birthday', 'feeling': 0}\n",
      "{'text': \"@kirsty_gilfo yup! That's the one  Mmm....yum cha! Have lots of dumplings for me\", 'feeling': 1}\n",
      "{'text': 'Italian Shaved on the mall is D-licious and all over me!!!  and my printer...  But it is D-Licious!', 'feeling': 0}\n",
      "{'text': \"Mum's off to bed... Nip/tuck time noow\", 'feeling': 1}\n",
      "Note: 0 means the tweet is negative, 1 means the tweet is positive.\n",
      "The shape of the train set is:\n",
      "(6000, 2)\n",
      "The shape of the test set is:\n",
      "(1000, 2)\n",
      "The shape of the validation set is:\n",
      "(2000, 2)\n"
     ]
    }
   ],
   "source": [
    "print(\"The dataset dictionary has the following structure:\")\n",
    "print(dataset)\n",
    "print(\"Let us take a look at some examples:\")\n",
    "for i in range(5):\n",
    "    print(dataset['train'][i+20])\n",
    "print(\"Note: 0 means the tweet is negative, 1 means the tweet is positive.\")\n",
    "print(\"The shape of the train set is:\")\n",
    "print(dataset['train'].shape)\n",
    "print(\"The shape of the test set is:\")\n",
    "print(dataset['test'].shape)\n",
    "print(\"The shape of the validation set is:\")\n",
    "print(dataset['validation'].shape)"
   ]
  },
  {
   "cell_type": "code",
   "execution_count": 5,
   "metadata": {},
   "outputs": [
    {
     "data": {
      "image/png": "[encoded data removed]",
      "text/plain": [
       "<Figure size 640x480 with 1 Axes>"
      ]
     },
     "metadata": {},
     "output_type": "display_data"
    }
   ],
   "source": [
    "#Let us take a look at the distribution of the data\n",
    "#only consider the feeling\n",
    "dd = pd.Series(dataset['train']['feeling']).value_counts()\n",
    "sns.barplot(x=np.array(['negative','positive']),y=dd.values)\n",
    "colors = ['red', 'green']\n",
    "plt.bar(np.array(['negative','positive']), dd.values, color=colors)\n",
    "plt.show()"
   ]
  },
  {
   "cell_type": "markdown",
   "metadata": {},
   "source": [
    "## Preprocessing and Tokenisation\n",
    "The dataset comes from twitter, so there are a lot of random characters in the text (e.g hashtags). Furthermore, there might be a lot of \"stop words\" in the text. Stop words are words that do not give any information regarding the text, such as *a, the, is, are*. We want to delete them from the text so that they make calculations easier. \n",
    "This process is known as **preprocessing**.\n",
    "Afterwards, we are going to **tokenise** the dataset. This means assigning each unique word to a token that allows for easier computation"
   ]
  },
  {
   "cell_type": "code",
   "execution_count": 6,
   "metadata": {},
   "outputs": [
    {
     "name": "stderr",
     "output_type": "stream",
     "text": [
      "[nltk_data] Downloading package stopwords to\n",
      "[nltk_data]     /home/jespigno/nltk_data...\n",
      "[nltk_data]   Package stopwords is already up-to-date!\n"
     ]
    }
   ],
   "source": [
    "def preprocess_string(s):\n",
    "    s = re.sub(r\"[^\\w\\s]\", '', s)\n",
    "    # Replace all runs of whitespaces with no space\n",
    "    s = re.sub(r\"\\s+\", '', s)\n",
    "    # replace digits with no space\n",
    "    s = re.sub(r\"\\d\", '', s)\n",
    "    #make all letters lowercase\n",
    "    s = s.lower()\n",
    "    return s\n",
    "\n",
    "\n",
    "import nltk\n",
    "nltk.download('stopwords')\n",
    "def tokenise_dataset(dataset):\n",
    "    word_list = []\n",
    "    stop_words = set(stopwords.words('english'))\n",
    "    for split in ['train','test','validation']:\n",
    "        for i in tqdm(range(dataset[split].shape[0])):\n",
    "            for word in dataset[split]['text'][i].split():\n",
    "                word = preprocess_string(word)\n",
    "                if word not in stop_words and word != '':\n",
    "                    word_list.append(word)\n",
    "    corpus = Counter(word_list)\n",
    "    #sort the words by frequency\n",
    "    corpus_ = sorted(corpus,key=corpus.get,reverse=True)[:10000]\n",
    "    #create a dictionary\n",
    "    word_dict = {w:i+2 for i,w in enumerate(corpus_)}\n",
    "    dataset_token = {'train':{},'test':{},'validation':{}}\n",
    "\n",
    "    #tokenise\n",
    "    for split in ['train','test','validation']:\n",
    "        final_tweets = []\n",
    "        for tweet in tqdm(range(dataset[split].shape[0])):\n",
    "            final_tweets.append([word_dict[preprocess_string(word)] for word in dataset[split]['text'][tweet].split() if preprocess_string(word) in word_dict.keys()])\n",
    "        dataset_token[split]['text'] = np.array(final_tweets,dtype=object)\n",
    "        dataset_token[split]['feeling'] = np.array(dataset[split]['feeling'])\n",
    "    return dataset_token,word_dict\n"
   ]
  },
  {
   "cell_type": "code",
   "execution_count": 8,
   "metadata": {},
   "outputs": [
    {
     "name": "stderr",
     "output_type": "stream",
     "text": [
      "  0%|          | 0/6000 [00:00<?, ?it/s]"
     ]
    },
    {
     "name": "stderr",
     "output_type": "stream",
     "text": [
      "100%|██████████| 6000/6000 [00:28<00:00, 210.67it/s]\n",
      "100%|██████████| 1000/1000 [00:00<00:00, 1348.61it/s]\n",
      "100%|██████████| 2000/2000 [00:02<00:00, 683.77it/s]\n",
      "100%|██████████| 6000/6000 [00:25<00:00, 230.78it/s]\n",
      "100%|██████████| 1000/1000 [00:00<00:00, 1298.59it/s]\n",
      "100%|██████████| 2000/2000 [00:02<00:00, 679.23it/s]"
     ]
    },
    {
     "name": "stdout",
     "output_type": "stream",
     "text": [
      "The length of the word dictionary is: 10000\n"
     ]
    },
    {
     "name": "stderr",
     "output_type": "stream",
     "text": [
      "\n"
     ]
    }
   ],
   "source": [
    "dataset_token, word_dict = tokenise_dataset(dataset)\n",
    "print(\"The length of the word dictionary is:\", len(word_dict))"
   ]
  },
  {
   "cell_type": "code",
   "execution_count": 9,
   "metadata": {},
   "outputs": [
    {
     "name": "stdout",
     "output_type": "stream",
     "text": [
      "The first tweet in the training set is:\n",
      "@fa6ami86 so happy that salman won.  btw the 14sec clip is truely a teaser\n",
      "After tokenisation, it looks like this:\n",
      "[3120, 57, 4877, 386, 1888, 4878, 3121, 4879]\n",
      "If we were to convert from tokens back to words, we would get:\n",
      "faami happy salman btw sec clip truely teaser\n"
     ]
    }
   ],
   "source": [
    "#At this point, the dataset has been tokenised. Let us examine one example to see what this looks like.\n",
    "print(\"The first tweet in the training set is:\")\n",
    "print(dataset['train']['text'][0])\n",
    "print(\"After tokenisation, it looks like this:\")\n",
    "print(dataset_token['train']['text'][0])\n",
    "print(\"If we were to convert from tokens back to words, we would get:\")\n",
    "print(' '.join([list(word_dict.keys())[i-2] for i in dataset_token['train']['text'][0]]))"
   ]
  },
  {
   "cell_type": "markdown",
   "metadata": {},
   "source": [
    "The next step for us is to analyse the length of each tweet. LSTMs work best when all the inputs are of the **same size**. In order for us to achieve this, we need to analyse what is the longest tweet in our dataset, and make all of the other training samples be the same length.\n",
    "We can make this happen with **padding**. Padding will add zeroes to all the sequences shorter than the longest ones so that effectively they all have the same size. When computing, the network will ignore all the zero values at the end, so this will not have an impact on the accuracy of predictions"
   ]
  },
  {
   "cell_type": "code",
   "execution_count": 10,
   "metadata": {},
   "outputs": [
    {
     "data": {
      "image/png": "[encoded data removed]",
      "text/plain": [
       "<Figure size 640x480 with 1 Axes>"
      ]
     },
     "metadata": {},
     "output_type": "display_data"
    },
    {
     "data": {
      "text/plain": [
       "count    6000.000000\n",
       "mean        7.102000\n",
       "std         3.776326\n",
       "min         0.000000\n",
       "25%         4.000000\n",
       "50%         7.000000\n",
       "75%        10.000000\n",
       "max        21.000000\n",
       "dtype: float64"
      ]
     },
     "execution_count": 10,
     "metadata": {},
     "output_type": "execute_result"
    }
   ],
   "source": [
    "total_lenght = [len(i) for i in dataset_token['train']['text']]\n",
    "pd.Series(total_lenght).hist()\n",
    "plt.show()\n",
    "pd.Series(total_lenght).describe()"
   ]
  },
  {
   "cell_type": "markdown",
   "metadata": {},
   "source": [
    "Even though the mean tweet length is 7, there are some remarkably long tweets (up to 21 tokens!). We can either manually inspect these elements in our dataset and determine whether or not they are needed OR we can just pad everything to that maximum value."
   ]
  },
  {
   "cell_type": "code",
   "execution_count": 11,
   "metadata": {},
   "outputs": [],
   "source": [
    "def padding_(data, max_length):\n",
    "    features = np.zeros((len(data), max_length),dtype=int)\n",
    "    for i, row in enumerate(data):\n",
    "        if len(row) != 0:\n",
    "            features[i, -len(row):] = np.array(row)[:max_length]\n",
    "    return features\n",
    "\n",
    "#Let us apply the function to the dataset\n",
    "max_length = 21\n",
    "dataset_token_pad = {'train':{},'test':{},'validation':{}}\n",
    "for split in ['train','test','validation']:\n",
    "    dataset_token_pad[split]['text'] = padding_(dataset_token[split]['text'], max_length)\n",
    "    dataset_token_pad[split]['feeling'] = dataset_token[split]['feeling']"
   ]
  },
  {
   "cell_type": "markdown",
   "metadata": {},
   "source": [
    "The next step is to **batch** the data. This allows us to feed the data in packages to the model, which makes the training process more efficient."
   ]
  },
  {
   "cell_type": "code",
   "execution_count": 12,
   "metadata": {},
   "outputs": [],
   "source": [
    "training_data = TensorDataset(torch.from_numpy(dataset_token_pad['train']['text']), torch.from_numpy(dataset_token_pad['train']['feeling']))\n",
    "testing_data = TensorDataset(torch.from_numpy(dataset_token_pad['test']['text']), torch.from_numpy(dataset_token_pad['test']['feeling']))\n",
    "validation_data = TensorDataset(torch.from_numpy(dataset_token_pad['validation']['text']), torch.from_numpy(dataset_token_pad['validation']['feeling']))\n",
    "\n",
    "#dataloaders\n",
    "batch_size = 50\n",
    "train_loader = DataLoader(training_data, shuffle=True, batch_size=batch_size)\n",
    "test_loader = DataLoader(testing_data, shuffle=True, batch_size=batch_size)\n",
    "valid_loader = DataLoader(validation_data, shuffle=True, batch_size=batch_size)\n",
    "#shuffle allows us to make sure the model does not learn the order of the data"
   ]
  },
  {
   "cell_type": "markdown",
   "metadata": {},
   "source": [
    "Let us look at a single batch of data"
   ]
  },
  {
   "cell_type": "code",
   "execution_count": 13,
   "metadata": {},
   "outputs": [
    {
     "name": "stdout",
     "output_type": "stream",
     "text": [
      "Sample input size:  torch.Size([50, 21])\n",
      "Sample input: \n",
      " tensor([[   0,    0,    0,  ..., 1006,  257, 8417],\n",
      "        [   0,    0,    0,  ...,    3, 1019, 2551],\n",
      "        [   0,    0,    0,  ...,    2,   92,  105],\n",
      "        ...,\n",
      "        [   0,    0,    0,  ...,  288, 8286,  389],\n",
      "        [   0,    0,    0,  ...,   26,  569,  253],\n",
      "        [   0,    0,    0,  ...,   14,   45,  225]])\n",
      "\n",
      "Sample label size:  torch.Size([50])\n",
      "Sample label: \n",
      " tensor([0, 0, 0, 0, 1, 0, 1, 0, 1, 0, 1, 0, 1, 0, 1, 0, 1, 0, 0, 1, 0, 0, 0, 0,\n",
      "        0, 0, 0, 1, 1, 1, 0, 0, 0, 1, 1, 1, 1, 0, 0, 1, 0, 0, 1, 1, 1, 0, 0, 0,\n",
      "        1, 1])\n"
     ]
    }
   ],
   "source": [
    "iterr = iter(train_loader)\n",
    "sample_x, sample_y = next(iterr)\n",
    "print('Sample input size: ', sample_x.size()) # batch_size, seq_length\n",
    "print('Sample input: \\n', sample_x)\n",
    "print()\n",
    "print('Sample label size: ', sample_y.size()) # batch_size\n",
    "print('Sample label: \\n', sample_y)"
   ]
  },
  {
   "cell_type": "markdown",
   "metadata": {},
   "source": [
    "Remember, the input is of size [50,21] because there are 50 sentences with 21 entries each. When it comes to the label, 0 is negative and 1 is positive. "
   ]
  },
  {
   "cell_type": "markdown",
   "metadata": {},
   "source": [
    "The time has arrived, time to\n",
    "## create the model!"
   ]
  },
  {
   "cell_type": "code",
   "execution_count": 14,
   "metadata": {},
   "outputs": [],
   "source": [
    "class SentimentRNN(nn.Module):\n",
    "    #every class in PyTorch should have a __init__ function, which is used to define the parameters of the model.\n",
    "    #Here, the output dimension and the hidden dimension represent the number of nodes in the output layer and the hidden layer, respectively.\n",
    "    \n",
    "    def __init__(self,no_layers,vocab_size, output_dim, hidden_dim,embedding_dim,drop_prob=0.5):\n",
    "        super(SentimentRNN,self).__init__()\n",
    " \n",
    "        self.output_dim = output_dim\n",
    "        self.hidden_dim = hidden_dim\n",
    " \n",
    "        self.no_layers = no_layers\n",
    "        self.vocab_size = vocab_size\n",
    "    \n",
    "        # embedding and LSTM layers\n",
    "        self.embedding = nn.Embedding(vocab_size, embedding_dim)\n",
    "        \n",
    "        #lstm\n",
    "        self.lstm = nn.LSTM(input_size=embedding_dim,hidden_size=self.hidden_dim,\n",
    "                           num_layers=no_layers, batch_first=True)\n",
    "        \n",
    "        \n",
    "        # dropout layer\n",
    "        self.dropout = nn.Dropout(0.3)\n",
    "    \n",
    "        # linear and sigmoid layer\n",
    "        self.fc = nn.Linear(self.hidden_dim, output_dim)\n",
    "        self.sig = nn.Sigmoid()\n",
    "        \n",
    "    #The forward function is used to define the forward pass of the model. This is where the input tensor is passed through the layers in the model.\n",
    "    def forward(self,x,hidden):\n",
    "        batch_size = x.size(0)\n",
    "        # embeddings and lstm_out\n",
    "        embeds = self.embedding(x)  # shape: B x S x Feature   since batch = True\n",
    "        #print(embeds.shape)  #[50, 500, 1000]\n",
    "        lstm_out, hidden = self.lstm(embeds, hidden)\n",
    "        \n",
    "        lstm_out = lstm_out.contiguous().view(-1, self.hidden_dim) \n",
    "        \n",
    "        # dropout and fully connected layer\n",
    "        out = self.dropout(lstm_out)\n",
    "        out = self.fc(out)\n",
    "        \n",
    "        # sigmoid function\n",
    "        sig_out = self.sig(out)\n",
    "        \n",
    "        # reshape to be batch_size first\n",
    "        sig_out = sig_out.view(batch_size, -1)\n",
    "\n",
    "        sig_out = sig_out[:, -1] # get last batch of labels\n",
    "        \n",
    "        # return last sigmoid output and hidden state\n",
    "        return sig_out, hidden\n",
    "        \n",
    "        \n",
    "    #The init_hidden function is used to initialise the hidden state of the LSTM. This is used to clear out the hidden state at the beginning of each epoch.\n",
    "    def init_hidden(self, batch_size):\n",
    "        ''' Initializes hidden state '''\n",
    "        # Create two new tensors with sizes n_layers x batch_size x hidden_dim,\n",
    "        # initialized to zero, for hidden state and cell state of LSTM\n",
    "        h0 = torch.zeros((self.no_layers,batch_size,self.hidden_dim)).to(device)\n",
    "        c0 = torch.zeros((self.no_layers,batch_size,self.hidden_dim)).to(device)\n",
    "        hidden = (h0,c0)\n",
    "        return hidden"
   ]
  },
  {
   "cell_type": "markdown",
   "metadata": {},
   "source": [
    "The model has been defined. Now, we are going to set some of its parameters:"
   ]
  },
  {
   "cell_type": "code",
   "execution_count": 15,
   "metadata": {},
   "outputs": [
    {
     "name": "stdout",
     "output_type": "stream",
     "text": [
      "Take a look at what you are working with right now:\n",
      "SentimentRNN(\n",
      "  (embedding): Embedding(10002, 400)\n",
      "  (lstm): LSTM(400, 256, num_layers=2, batch_first=True)\n",
      "  (dropout): Dropout(p=0.3, inplace=False)\n",
      "  (fc): Linear(in_features=256, out_features=1, bias=True)\n",
      "  (sig): Sigmoid()\n",
      ")\n"
     ]
    }
   ],
   "source": [
    "number_of_layers = 2\n",
    "vocabulary_size = len(word_dict)+2\n",
    "output_dimension = 1 #either positive or negative\n",
    "hidden_dimension = 256\n",
    "embedding_dimension = 400\n",
    "\n",
    "model = SentimentRNN(number_of_layers,vocabulary_size,output_dimension,hidden_dimension,embedding_dimension)\n",
    "\n",
    "#move to gpu if available\n",
    "model.to(device)\n",
    "print(\"Take a look at what you are working with right now:\")\n",
    "print(model)"
   ]
  },
  {
   "cell_type": "markdown",
   "metadata": {},
   "source": [
    "## Training\n",
    "It is time for us to start the training process. \n",
    "Training is usually pretty standard; on each epoch, the model will compute the forward pass and then perform the back propagation after calculating the loss. The key aspect of training are **hyperparameters**, which are specific values you can adjust to improve the performance of your training. \n",
    "Let us have a quick intro of some of them:\n",
    "1. Learning rate: Determines the step size at each iteration; basically how much the model will change in response to the estimated error.\n",
    "2. Criterion: It is the \"rule\" for stopping the algorithm you are using. Sometimes finding the real minimum might take extremely long; a criterion might prevent this from happening by allowing the algorithm to settle at a different optimum level.\n",
    "3. Optimizer: It is a function or algorithm that adjusts the attributes of the neural network (e.g. weights and learning rate) after each iteration\n",
    "4. Clip value: Maximum value we allow the gradients to get. Gradients, which are calculated during backward pass, encapsulate information collected from the data. Sometimes they can contain long-range dependencies in multidimensional data, so they can \"explode\", grow very large and prevent the model from converging. Gradient clipping prevents this.\n",
    "5. Epochs: One complete pass of the training dataset through the algorithm."
   ]
  },
  {
   "cell_type": "code",
   "execution_count": 16,
   "metadata": {},
   "outputs": [],
   "source": [
    "#Ok now that we are familiar with these hyperparameters, let us define them:\n",
    "learning_rate = 0.001\n",
    "criterion = nn.BCELoss() #Binary Cross Entropy Loss\n",
    "optimizer = torch.optim.Adam(model.parameters(), lr=learning_rate) #Adam Optimiser\n",
    "clip_value = 5 #for gradient clipping\n",
    "epochs = 20\n",
    "\n",
    "#accuracy function\n",
    "def acc(pred,label):\n",
    "    pred = torch.round(pred.squeeze()) #rounds the output to 0/1\n",
    "    return torch.sum(pred == label.squeeze()).item() #convert into numpy array"
   ]
  },
  {
   "cell_type": "markdown",
   "metadata": {},
   "source": [
    "### Training Function"
   ]
  },
  {
   "cell_type": "code",
   "execution_count": 17,
   "metadata": {},
   "outputs": [
    {
     "name": "stdout",
     "output_type": "stream",
     "text": [
      "Epoch 1\n",
      "train_loss : 0.6345229695240656 val_loss : 0.5848905466496944\n",
      "train_accuracy : 62.21666666666666 val_accuracy : 68.75\n",
      "Validation loss decreased (inf --> 0.584891).  Saving model ...\n",
      "==================================================\n",
      "Epoch 2\n",
      "train_loss : 0.4350559792170922 val_loss : 0.5774421162903309\n",
      "train_accuracy : 80.08333333333333 val_accuracy : 70.85000000000001\n",
      "Validation loss decreased (0.584891 --> 0.577442).  Saving model ...\n",
      "==================================================\n",
      "Epoch 3\n",
      "train_loss : 0.21418051272630692 val_loss : 0.7696377709507942\n",
      "train_accuracy : 91.5 val_accuracy : 68.89999999999999\n",
      "==================================================\n",
      "Epoch 4\n",
      "train_loss : 0.08171276380307972 val_loss : 1.142621460556984\n",
      "train_accuracy : 97.13333333333334 val_accuracy : 68.4\n",
      "==================================================\n",
      "Epoch 5\n",
      "train_loss : 0.03386547132783259 val_loss : 1.398746582865715\n",
      "train_accuracy : 98.65 val_accuracy : 68.55\n",
      "==================================================\n",
      "Epoch 6\n",
      "train_loss : 0.020592070669711877 val_loss : 1.5136861816048621\n",
      "train_accuracy : 99.25 val_accuracy : 69.85\n",
      "==================================================\n",
      "Epoch 7\n",
      "train_loss : 0.006015039164109718 val_loss : 1.9000390857458114\n",
      "train_accuracy : 99.75 val_accuracy : 69.55\n",
      "==================================================\n",
      "Epoch 8\n",
      "train_loss : 0.005161897922668383 val_loss : 1.903423583507538\n",
      "train_accuracy : 99.75 val_accuracy : 69.65\n",
      "==================================================\n",
      "Epoch 9\n",
      "train_loss : 0.004476867061202938 val_loss : 1.9877682209014893\n",
      "train_accuracy : 99.76666666666667 val_accuracy : 69.0\n",
      "==================================================\n",
      "Epoch 10\n",
      "train_loss : 0.00399015691424817 val_loss : 2.064226120710373\n",
      "train_accuracy : 99.76666666666667 val_accuracy : 69.8\n",
      "==================================================\n",
      "Epoch 11\n",
      "train_loss : 0.004136967208675439 val_loss : 2.090576484799385\n",
      "train_accuracy : 99.71666666666667 val_accuracy : 69.15\n",
      "==================================================\n",
      "Epoch 12\n",
      "train_loss : 0.003860510784155243 val_loss : 2.151269832253456\n",
      "train_accuracy : 99.76666666666667 val_accuracy : 69.25\n",
      "==================================================\n",
      "Epoch 13\n",
      "train_loss : 0.003827649317433194 val_loss : 2.187616357207298\n",
      "train_accuracy : 99.7 val_accuracy : 69.05\n",
      "==================================================\n",
      "Epoch 14\n",
      "train_loss : 0.0037328140016825275 val_loss : 2.229844129085541\n",
      "train_accuracy : 99.76666666666667 val_accuracy : 69.25\n",
      "==================================================\n",
      "Epoch 15\n",
      "train_loss : 0.003617989296003543 val_loss : 2.277723504602909\n",
      "train_accuracy : 99.71666666666667 val_accuracy : 69.3\n",
      "==================================================\n",
      "Epoch 16\n",
      "train_loss : 0.003590073463472739 val_loss : 2.3188776075839996\n",
      "train_accuracy : 99.76666666666667 val_accuracy : 69.19999999999999\n",
      "==================================================\n",
      "Epoch 17\n",
      "train_loss : 0.0037048819333752665 val_loss : 2.31833997964859\n",
      "train_accuracy : 99.7 val_accuracy : 69.35\n",
      "==================================================\n",
      "Epoch 18\n",
      "train_loss : 0.003623052692823118 val_loss : 2.380846473574638\n",
      "train_accuracy : 99.78333333333333 val_accuracy : 69.39999999999999\n",
      "==================================================\n",
      "Epoch 19\n",
      "train_loss : 0.0036390167993507324 val_loss : 2.45445094704628\n",
      "train_accuracy : 99.71666666666667 val_accuracy : 69.39999999999999\n",
      "==================================================\n",
      "Epoch 20\n",
      "train_loss : 0.003571273111045533 val_loss : 2.4850184828042985\n",
      "train_accuracy : 99.78333333333333 val_accuracy : 69.19999999999999\n",
      "==================================================\n"
     ]
    }
   ],
   "source": [
    "valid_loss_min = np.Inf\n",
    "epoch_tr_loss,epoch_vl_loss = [],[]\n",
    "epoch_tr_acc,epoch_vl_acc = [],[]\n",
    "\n",
    "for epoch in range(epochs):\n",
    "    train_losses = []\n",
    "    train_acc = 0.0\n",
    "    \n",
    "    #Make the model ready for training. If the model is not in this mode, the model will not update the weights.\n",
    "    model.train()\n",
    "    # initialize hidden state \n",
    "    h = model.init_hidden(batch_size)\n",
    "    \n",
    "    for inputs, labels in train_loader:\n",
    "        inputs, labels = inputs.to(device), labels.to(device)   \n",
    "        # Creating new variables for the hidden state, otherwise\n",
    "        # we'd backprop through the entire training history\n",
    "        h = tuple([each.data for each in h])\n",
    "        \n",
    "        model.zero_grad()\n",
    "        output,h = model(inputs,h)\n",
    "        \n",
    "        # calculate the loss and perform backprop\n",
    "        loss = criterion(output.squeeze(), labels.float())\n",
    "        loss.backward()\n",
    "        train_losses.append(loss.item())\n",
    "        # calculating accuracy\n",
    "        accuracy = acc(output,labels)\n",
    "        train_acc += accuracy\n",
    "        #`clip_grad_norm` helps prevent the exploding gradient problem in RNNs / LSTMs.\n",
    "        nn.utils.clip_grad_norm_(model.parameters(), clip_value)\n",
    "        optimizer.step()\n",
    " \n",
    "    \n",
    "        \n",
    "    val_h = model.init_hidden(batch_size)\n",
    "    val_losses = []\n",
    "    val_acc = 0.0\n",
    "    model.eval()\n",
    "    for inputs, labels in valid_loader:\n",
    "            val_h = tuple([each.data for each in val_h])\n",
    "\n",
    "            inputs, labels = inputs.to(device), labels.to(device)\n",
    "\n",
    "            output, val_h = model(inputs, val_h)\n",
    "            val_loss = criterion(output.squeeze(), labels.float())\n",
    "\n",
    "            val_losses.append(val_loss.item())\n",
    "            \n",
    "            accuracy = acc(output,labels)\n",
    "            val_acc += accuracy\n",
    "            \n",
    "    epoch_train_loss = np.mean(train_losses)\n",
    "    epoch_val_loss = np.mean(val_losses)\n",
    "    epoch_train_acc = train_acc/len(train_loader.dataset)\n",
    "    epoch_val_acc = val_acc/len(valid_loader.dataset)\n",
    "    epoch_tr_loss.append(epoch_train_loss)\n",
    "    epoch_vl_loss.append(epoch_val_loss)\n",
    "    epoch_tr_acc.append(epoch_train_acc)\n",
    "    epoch_vl_acc.append(epoch_val_acc)\n",
    "    print(f'Epoch {epoch+1}') \n",
    "    print(f'train_loss : {epoch_train_loss} val_loss : {epoch_val_loss}')\n",
    "    print(f'train_accuracy : {epoch_train_acc*100} val_accuracy : {epoch_val_acc*100}')\n",
    "    if epoch_val_loss <= valid_loss_min:\n",
    "        torch.save(model.state_dict(), 'state_dict.pt')\n",
    "        print('Validation loss decreased ({:.6f} --> {:.6f}).  Saving model ...'.format(valid_loss_min,epoch_val_loss))\n",
    "        valid_loss_min = epoch_val_loss\n",
    "    print(25*'==')"
   ]
  },
  {
   "cell_type": "code",
   "execution_count": 18,
   "metadata": {},
   "outputs": [
    {
     "data": {
      "image/png": "[encoded data removed]",
      "text/plain": [
       "<Figure size 2000x600 with 2 Axes>"
      ]
     },
     "metadata": {},
     "output_type": "display_data"
    }
   ],
   "source": [
    "fig = plt.figure(figsize = (20, 6))\n",
    "plt.subplot(1, 2, 1)\n",
    "plt.plot(epoch_tr_acc, label='Train Acc')\n",
    "plt.plot(epoch_vl_acc, label='Validation Acc')\n",
    "plt.title(\"Accuracy\")\n",
    "plt.legend()\n",
    "plt.grid()\n",
    "    \n",
    "plt.subplot(1, 2, 2)\n",
    "plt.plot(epoch_tr_loss, label='Train loss')\n",
    "plt.plot(epoch_vl_loss, label='Validation loss')\n",
    "plt.title(\"Loss\")\n",
    "plt.legend()\n",
    "plt.grid()\n",
    "\n",
    "plt.show()"
   ]
  },
  {
   "cell_type": "markdown",
   "metadata": {},
   "source": [
    "Now, it is time for us to perform **inference**, the process of having your model predict labels from data it has never seen before."
   ]
  },
  {
   "cell_type": "code",
   "execution_count": 21,
   "metadata": {},
   "outputs": [
    {
     "name": "stdout",
     "output_type": "stream",
     "text": [
      "@Junderstated lls ain't that the truth\n",
      "======================================================================\n",
      "Actual sentiment is  : positive\n",
      "======================================================================\n",
      "Predicted sentiment is positive with a probability of 0.9999957084655762\n"
     ]
    }
   ],
   "source": [
    "def predict_text(text):\n",
    "        word_seq = np.array([word_dict[preprocess_string(word)] for word in text.split() \n",
    "                         if preprocess_string(word) in word_dict.keys()])\n",
    "        word_seq = np.expand_dims(word_seq,axis=0)\n",
    "        pad =  torch.from_numpy(padding_(word_seq,500))\n",
    "        inputs = pad.to(device)\n",
    "        batch_size = 1\n",
    "        h = model.init_hidden(batch_size)\n",
    "        h = tuple([each.data for each in h])\n",
    "        output, h = model(inputs, h)\n",
    "        return(output.item())\n",
    "    \n",
    "index = 30\n",
    "print(dataset['train']['text'][index])\n",
    "print('='*70)\n",
    "actual_sentiment = \"positive\" if dataset['train']['feeling'][index] == 1 else \"negative\"\n",
    "print(f'Actual sentiment is  : {actual_sentiment}')\n",
    "print('='*70)\n",
    "pro = predict_text(dataset['train']['text'][index])\n",
    "status = \"positive\" if pro > 0.5 else \"negative\"\n",
    "pro = (1 - pro) if status == \"negative\" else pro\n",
    "print(f'Predicted sentiment is {status} with a probability of {pro}')"
   ]
  }
 ],
 "metadata": {
  "kernelspec": {
   "display_name": "Python 3",
   "language": "python",
   "name": "python3"
  },
  "language_info": {
   "codemirror_mode": {
    "name": "ipython",
    "version": 3
   },
   "file_extension": ".py",
   "mimetype": "text/x-python",
   "name": "python",
   "nbconvert_exporter": "python",
   "pygments_lexer": "ipython3",
   "version": "3.10.12"
  },
  "orig_nbformat": 4
 },
 "nbformat": 4,
 "nbformat_minor": 2
}
